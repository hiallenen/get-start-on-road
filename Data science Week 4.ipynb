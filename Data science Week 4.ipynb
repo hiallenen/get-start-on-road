{
 "cells": [
  {
   "cell_type": "markdown",
   "id": "be65ca50",
   "metadata": {},
   "source": [
    "# My Jupyter Notebook on IBM Watson Studio"
   ]
  },
  {
   "cell_type": "markdown",
   "id": "a731a0d8",
   "metadata": {},
   "source": [
    "**Shuai Zehua**\n",
    "\n",
    "\n",
    "Edmonton"
   ]
  },
  {
   "cell_type": "markdown",
   "id": "2b87b1d6",
   "metadata": {},
   "source": [
    "*I am interested in data science because I strongly believe the future will be a data driven society. And data scientists will be demanding*"
   ]
  },
  {
   "cell_type": "markdown",
   "id": "041cc544",
   "metadata": {},
   "source": [
    "### in cell 5, to run a code and display the output"
   ]
  },
  {
   "cell_type": "code",
   "execution_count": 1,
   "id": "0b651956",
   "metadata": {},
   "outputs": [
    {
     "data": {
      "text/plain": [
       "2"
      ]
     },
     "execution_count": 1,
     "metadata": {},
     "output_type": "execute_result"
    }
   ],
   "source": [
    "1+1"
   ]
  },
  {
   "cell_type": "markdown",
   "id": "b8b39a6f",
   "metadata": {},
   "source": [
    "\n",
    "***\n",
    "\n",
    "This is horizontal rule!\n",
    "\n",
    "***\n",
    "\n",
    "* This is a bullet list\n",
    "\n",
    "\n",
    "1. this is a numbered list\n",
    "\n",
    "\n"
   ]
  },
  {
   "cell_type": "code",
   "execution_count": null,
   "id": "efeadfa9",
   "metadata": {},
   "outputs": [],
   "source": []
  }
 ],
 "metadata": {
  "kernelspec": {
   "display_name": "Python 3 (ipykernel)",
   "language": "python",
   "name": "python3"
  },
  "language_info": {
   "codemirror_mode": {
    "name": "ipython",
    "version": 3
   },
   "file_extension": ".py",
   "mimetype": "text/x-python",
   "name": "python",
   "nbconvert_exporter": "python",
   "pygments_lexer": "ipython3",
   "version": "3.9.7"
  }
 },
 "nbformat": 4,
 "nbformat_minor": 5
}
